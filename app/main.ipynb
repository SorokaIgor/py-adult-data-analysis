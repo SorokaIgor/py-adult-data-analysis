{
 "cells": [
  {
   "cell_type": "code",
   "execution_count": null,
   "outputs": [],
   "source": [
    "import pandas as pd"
   ],
   "metadata": {
    "collapsed": false,
    "pycharm": {
     "name": "#%%\n"
    }
   }
  },
  {
   "cell_type": "markdown",
   "source": [
    "# Task 0\n",
    "Read the dataset from csv file & perform data cleaning - remove all rows, which contains `?` in some columns.\n",
    "Also check for data correctness (salary & salary $K)."
   ],
   "metadata": {
    "collapsed": false,
    "pycharm": {
     "name": "#%% md\n"
    }
   }
  },
  {
   "cell_type": "code",
   "execution_count": 246,
   "outputs": [
    {
     "name": "stdout",
     "output_type": "stream",
     "text": [
      "CPU times: total: 78.1 ms\n",
      "Wall time: 63.1 ms\n"
     ]
    },
    {
     "data": {
      "text/plain": "       Unnamed: 0  age         workclass   education      marital-status  \\\n0               0   39         State-gov   Bachelors       Never-married   \n1               1   50  Self-emp-not-inc   Bachelors  Married-civ-spouse   \n2               2   38           Private     HS-grad            Divorced   \n3               3   53           Private        11th  Married-civ-spouse   \n4               4   28           Private   Bachelors  Married-civ-spouse   \n...           ...  ...               ...         ...                 ...   \n32556       32556   27           Private  Assoc-acdm  Married-civ-spouse   \n32557       32557   40           Private     HS-grad  Married-civ-spouse   \n32558       32558   58           Private     HS-grad             Widowed   \n32559       32559   22           Private     HS-grad       Never-married   \n32560       32560   52      Self-emp-inc     HS-grad  Married-civ-spouse   \n\n              occupation   relationship   race     sex  hours-per-week  \\\n0           Adm-clerical  Not-in-family  White    Male              40   \n1        Exec-managerial        Husband  White    Male              13   \n2      Handlers-cleaners  Not-in-family  White    Male              40   \n3      Handlers-cleaners        Husband  Black    Male              40   \n4         Prof-specialty           Wife  Black  Female              40   \n...                  ...            ...    ...     ...             ...   \n32556       Tech-support           Wife  White  Female              38   \n32557  Machine-op-inspct        Husband  White    Male              40   \n32558       Adm-clerical      Unmarried  White  Female              40   \n32559       Adm-clerical      Own-child  White    Male              20   \n32560    Exec-managerial           Wife  White  Female              40   \n\n      native-country salary  salary K$  \n0      United-States  <=50K         39  \n1      United-States  <=50K         35  \n2      United-States  <=50K         27  \n3      United-States  <=50K         43  \n4               Cuba  <=50K         25  \n...              ...    ...        ...  \n32556  United-States  <=50K         36  \n32557  United-States   >50K        173  \n32558  United-States  <=50K         40  \n32559  United-States  <=50K         38  \n32560  United-States   >50K        243  \n\n[30162 rows x 13 columns]",
      "text/html": "<div>\n<style scoped>\n    .dataframe tbody tr th:only-of-type {\n        vertical-align: middle;\n    }\n\n    .dataframe tbody tr th {\n        vertical-align: top;\n    }\n\n    .dataframe thead th {\n        text-align: right;\n    }\n</style>\n<table border=\"1\" class=\"dataframe\">\n  <thead>\n    <tr style=\"text-align: right;\">\n      <th></th>\n      <th>Unnamed: 0</th>\n      <th>age</th>\n      <th>workclass</th>\n      <th>education</th>\n      <th>marital-status</th>\n      <th>occupation</th>\n      <th>relationship</th>\n      <th>race</th>\n      <th>sex</th>\n      <th>hours-per-week</th>\n      <th>native-country</th>\n      <th>salary</th>\n      <th>salary K$</th>\n    </tr>\n  </thead>\n  <tbody>\n    <tr>\n      <th>0</th>\n      <td>0</td>\n      <td>39</td>\n      <td>State-gov</td>\n      <td>Bachelors</td>\n      <td>Never-married</td>\n      <td>Adm-clerical</td>\n      <td>Not-in-family</td>\n      <td>White</td>\n      <td>Male</td>\n      <td>40</td>\n      <td>United-States</td>\n      <td>&lt;=50K</td>\n      <td>39</td>\n    </tr>\n    <tr>\n      <th>1</th>\n      <td>1</td>\n      <td>50</td>\n      <td>Self-emp-not-inc</td>\n      <td>Bachelors</td>\n      <td>Married-civ-spouse</td>\n      <td>Exec-managerial</td>\n      <td>Husband</td>\n      <td>White</td>\n      <td>Male</td>\n      <td>13</td>\n      <td>United-States</td>\n      <td>&lt;=50K</td>\n      <td>35</td>\n    </tr>\n    <tr>\n      <th>2</th>\n      <td>2</td>\n      <td>38</td>\n      <td>Private</td>\n      <td>HS-grad</td>\n      <td>Divorced</td>\n      <td>Handlers-cleaners</td>\n      <td>Not-in-family</td>\n      <td>White</td>\n      <td>Male</td>\n      <td>40</td>\n      <td>United-States</td>\n      <td>&lt;=50K</td>\n      <td>27</td>\n    </tr>\n    <tr>\n      <th>3</th>\n      <td>3</td>\n      <td>53</td>\n      <td>Private</td>\n      <td>11th</td>\n      <td>Married-civ-spouse</td>\n      <td>Handlers-cleaners</td>\n      <td>Husband</td>\n      <td>Black</td>\n      <td>Male</td>\n      <td>40</td>\n      <td>United-States</td>\n      <td>&lt;=50K</td>\n      <td>43</td>\n    </tr>\n    <tr>\n      <th>4</th>\n      <td>4</td>\n      <td>28</td>\n      <td>Private</td>\n      <td>Bachelors</td>\n      <td>Married-civ-spouse</td>\n      <td>Prof-specialty</td>\n      <td>Wife</td>\n      <td>Black</td>\n      <td>Female</td>\n      <td>40</td>\n      <td>Cuba</td>\n      <td>&lt;=50K</td>\n      <td>25</td>\n    </tr>\n    <tr>\n      <th>...</th>\n      <td>...</td>\n      <td>...</td>\n      <td>...</td>\n      <td>...</td>\n      <td>...</td>\n      <td>...</td>\n      <td>...</td>\n      <td>...</td>\n      <td>...</td>\n      <td>...</td>\n      <td>...</td>\n      <td>...</td>\n      <td>...</td>\n    </tr>\n    <tr>\n      <th>32556</th>\n      <td>32556</td>\n      <td>27</td>\n      <td>Private</td>\n      <td>Assoc-acdm</td>\n      <td>Married-civ-spouse</td>\n      <td>Tech-support</td>\n      <td>Wife</td>\n      <td>White</td>\n      <td>Female</td>\n      <td>38</td>\n      <td>United-States</td>\n      <td>&lt;=50K</td>\n      <td>36</td>\n    </tr>\n    <tr>\n      <th>32557</th>\n      <td>32557</td>\n      <td>40</td>\n      <td>Private</td>\n      <td>HS-grad</td>\n      <td>Married-civ-spouse</td>\n      <td>Machine-op-inspct</td>\n      <td>Husband</td>\n      <td>White</td>\n      <td>Male</td>\n      <td>40</td>\n      <td>United-States</td>\n      <td>&gt;50K</td>\n      <td>173</td>\n    </tr>\n    <tr>\n      <th>32558</th>\n      <td>32558</td>\n      <td>58</td>\n      <td>Private</td>\n      <td>HS-grad</td>\n      <td>Widowed</td>\n      <td>Adm-clerical</td>\n      <td>Unmarried</td>\n      <td>White</td>\n      <td>Female</td>\n      <td>40</td>\n      <td>United-States</td>\n      <td>&lt;=50K</td>\n      <td>40</td>\n    </tr>\n    <tr>\n      <th>32559</th>\n      <td>32559</td>\n      <td>22</td>\n      <td>Private</td>\n      <td>HS-grad</td>\n      <td>Never-married</td>\n      <td>Adm-clerical</td>\n      <td>Own-child</td>\n      <td>White</td>\n      <td>Male</td>\n      <td>20</td>\n      <td>United-States</td>\n      <td>&lt;=50K</td>\n      <td>38</td>\n    </tr>\n    <tr>\n      <th>32560</th>\n      <td>32560</td>\n      <td>52</td>\n      <td>Self-emp-inc</td>\n      <td>HS-grad</td>\n      <td>Married-civ-spouse</td>\n      <td>Exec-managerial</td>\n      <td>Wife</td>\n      <td>White</td>\n      <td>Female</td>\n      <td>40</td>\n      <td>United-States</td>\n      <td>&gt;50K</td>\n      <td>243</td>\n    </tr>\n  </tbody>\n</table>\n<p>30162 rows × 13 columns</p>\n</div>"
     },
     "execution_count": 246,
     "metadata": {},
     "output_type": "execute_result"
    }
   ],
   "source": [
    "%%time\n",
    "all_adult = pd.read_csv(\"adult.csv\")\n",
    "filter_tab = all_adult[\"?\" == all_adult[\"native-country\" and \"workclass\"]]\n",
    "for column in all_adult.columns.tolist():\n",
    "    all_adult.drop(all_adult[all_adult[column] == \"?\"].index, inplace = True)\n",
    "all_adult"
   ],
   "metadata": {
    "collapsed": false,
    "pycharm": {
     "name": "#%%\n"
    }
   }
  },
  {
   "cell_type": "markdown",
   "source": [
    "# Task 1\n",
    "Print the count of men and women in the dataset."
   ],
   "metadata": {
    "collapsed": false,
    "pycharm": {
     "name": "#%% md\n"
    }
   }
  },
  {
   "cell_type": "code",
   "execution_count": null,
   "outputs": [],
   "source": [
    "all_adult[\"sex\"].value_counts()"
   ],
   "metadata": {
    "collapsed": false,
    "pycharm": {
     "name": "#%%\n"
    }
   }
  },
  {
   "cell_type": "markdown",
   "source": [
    "# Task 2\n",
    "Find the average age of men in dataset"
   ],
   "metadata": {
    "collapsed": false,
    "pycharm": {
     "name": "#%% md\n"
    }
   }
  },
  {
   "cell_type": "code",
   "execution_count": null,
   "outputs": [],
   "source": [
    "all_adult.groupby(\"sex\")[\"age\"].mean()"
   ],
   "metadata": {
    "collapsed": false,
    "pycharm": {
     "name": "#%%\n"
    }
   }
  },
  {
   "cell_type": "markdown",
   "source": [
    "# Task 3\n",
    "Get the percentage of people from Poland (native-country)"
   ],
   "metadata": {
    "collapsed": false,
    "pycharm": {
     "name": "#%% md\n"
    }
   }
  },
  {
   "cell_type": "code",
   "execution_count": null,
   "outputs": [],
   "source": [
    "all_adult[all_adult[\"native-country\"] == \"Poland\"].describe()"
   ],
   "metadata": {
    "collapsed": false,
    "pycharm": {
     "name": "#%%\n"
    }
   }
  },
  {
   "cell_type": "markdown",
   "source": [
    "# Task 4\n",
    "Get the mean and standard deviation of the age for people who earn > 50K per year. After this, get it for those who earn <= 50K."
   ],
   "metadata": {
    "collapsed": false,
    "pycharm": {
     "name": "#%% md\n"
    }
   }
  },
  {
   "cell_type": "code",
   "execution_count": 256,
   "outputs": [
    {
     "name": "stderr",
     "output_type": "stream",
     "text": [
      "C:\\Users\\Igor\\AppData\\Local\\Temp\\ipykernel_8872\\1662288926.py:1: FutureWarning: The default value of numeric_only in DataFrame.mean is deprecated. In a future version, it will default to False. In addition, specifying 'numeric_only=None' is deprecated. Select only valid columns or specify the value of numeric_only to silence this warning.\n",
      "  all_adult[(all_adult[\"age\"]) & (all_adult[\"salary\"] == \">50K\")].mean()\n"
     ]
    },
    {
     "data": {
      "text/plain": "Unnamed: 0        16193.685585\nage                  44.120171\nhours-per-week       45.733280\nsalary K$           199.888622\ndtype: float64"
     },
     "execution_count": 256,
     "metadata": {},
     "output_type": "execute_result"
    }
   ],
   "source": [
    "all_adult[(all_adult[\"age\"]) & (all_adult[\"salary\"] == \">50K\")].mean()"
   ],
   "metadata": {
    "collapsed": false,
    "pycharm": {
     "name": "#%%\n"
    }
   }
  },
  {
   "cell_type": "code",
   "execution_count": 257,
   "outputs": [
    {
     "name": "stderr",
     "output_type": "stream",
     "text": [
      "C:\\Users\\Igor\\AppData\\Local\\Temp\\ipykernel_8872\\154985454.py:1: FutureWarning: The default value of numeric_only in DataFrame.median is deprecated. In a future version, it will default to False. In addition, specifying 'numeric_only=None' is deprecated. Select only valid columns or specify the value of numeric_only to silence this warning.\n",
      "  all_adult[(all_adult[\"age\"]) & (all_adult[\"salary\"] == \"<=50K\")].median()\n"
     ]
    },
    {
     "data": {
      "text/plain": "Unnamed: 0        16272.0\nage                  35.0\nhours-per-week       40.0\nsalary K$            32.0\ndtype: float64"
     },
     "execution_count": 257,
     "metadata": {},
     "output_type": "execute_result"
    }
   ],
   "source": [
    "all_adult[(all_adult[\"age\"]) & (all_adult[\"salary\"] == \"<=50K\")].median()"
   ],
   "metadata": {
    "collapsed": false,
    "pycharm": {
     "name": "#%%\n"
    }
   }
  },
  {
   "cell_type": "markdown",
   "source": [
    "# Task 5\n",
    "Check, if there are some people without higher education (education: Bachelors, Prof-school, Assoc-acdm, Assoc-voc, Masters, Doctorate), but with > 50K salary"
   ],
   "metadata": {
    "collapsed": false,
    "pycharm": {
     "name": "#%% md\n"
    }
   }
  },
  {
   "cell_type": "code",
   "execution_count": 296,
   "outputs": [
    {
     "data": {
      "text/plain": "       Unnamed: 0  age         workclass     education      marital-status  \\\n7               7   52  Self-emp-not-inc       HS-grad  Married-civ-spouse   \n10             10   37           Private  Some-college  Married-civ-spouse   \n55             55   43           Private  Some-college  Married-civ-spouse   \n67             67   53           Private       HS-grad  Married-civ-spouse   \n68             68   49      Self-emp-inc  Some-college  Married-civ-spouse   \n...           ...  ...               ...           ...                 ...   \n32462       32462   48      Self-emp-inc       HS-grad  Married-civ-spouse   \n32518       32518   57         Local-gov       HS-grad  Married-civ-spouse   \n32519       32519   46           Private  Some-college  Married-civ-spouse   \n32557       32557   40           Private       HS-grad  Married-civ-spouse   \n32560       32560   52      Self-emp-inc       HS-grad  Married-civ-spouse   \n\n              occupation relationship   race     sex  hours-per-week  \\\n7        Exec-managerial      Husband  White    Male              45   \n10       Exec-managerial      Husband  Black    Male              80   \n55          Tech-support      Husband  White    Male              40   \n67          Adm-clerical         Wife  White  Female              40   \n68       Exec-managerial      Husband  White    Male              50   \n...                  ...          ...    ...     ...             ...   \n32462       Craft-repair      Husband  White    Male              50   \n32518       Craft-repair      Husband  White    Male              40   \n32519    Exec-managerial      Husband  White    Male              48   \n32557  Machine-op-inspct      Husband  White    Male              40   \n32560    Exec-managerial         Wife  White  Female              40   \n\n      native-country salary  salary K$  \n7      United-States   >50K        307  \n10     United-States   >50K        116  \n55     United-States   >50K        341  \n67     United-States   >50K        225  \n68     United-States   >50K        194  \n...              ...    ...        ...  \n32462  United-States   >50K        343  \n32518  United-States   >50K        116  \n32519  United-States   >50K        239  \n32557  United-States   >50K        173  \n32560  United-States   >50K        243  \n\n[3178 rows x 13 columns]",
      "text/html": "<div>\n<style scoped>\n    .dataframe tbody tr th:only-of-type {\n        vertical-align: middle;\n    }\n\n    .dataframe tbody tr th {\n        vertical-align: top;\n    }\n\n    .dataframe thead th {\n        text-align: right;\n    }\n</style>\n<table border=\"1\" class=\"dataframe\">\n  <thead>\n    <tr style=\"text-align: right;\">\n      <th></th>\n      <th>Unnamed: 0</th>\n      <th>age</th>\n      <th>workclass</th>\n      <th>education</th>\n      <th>marital-status</th>\n      <th>occupation</th>\n      <th>relationship</th>\n      <th>race</th>\n      <th>sex</th>\n      <th>hours-per-week</th>\n      <th>native-country</th>\n      <th>salary</th>\n      <th>salary K$</th>\n    </tr>\n  </thead>\n  <tbody>\n    <tr>\n      <th>7</th>\n      <td>7</td>\n      <td>52</td>\n      <td>Self-emp-not-inc</td>\n      <td>HS-grad</td>\n      <td>Married-civ-spouse</td>\n      <td>Exec-managerial</td>\n      <td>Husband</td>\n      <td>White</td>\n      <td>Male</td>\n      <td>45</td>\n      <td>United-States</td>\n      <td>&gt;50K</td>\n      <td>307</td>\n    </tr>\n    <tr>\n      <th>10</th>\n      <td>10</td>\n      <td>37</td>\n      <td>Private</td>\n      <td>Some-college</td>\n      <td>Married-civ-spouse</td>\n      <td>Exec-managerial</td>\n      <td>Husband</td>\n      <td>Black</td>\n      <td>Male</td>\n      <td>80</td>\n      <td>United-States</td>\n      <td>&gt;50K</td>\n      <td>116</td>\n    </tr>\n    <tr>\n      <th>55</th>\n      <td>55</td>\n      <td>43</td>\n      <td>Private</td>\n      <td>Some-college</td>\n      <td>Married-civ-spouse</td>\n      <td>Tech-support</td>\n      <td>Husband</td>\n      <td>White</td>\n      <td>Male</td>\n      <td>40</td>\n      <td>United-States</td>\n      <td>&gt;50K</td>\n      <td>341</td>\n    </tr>\n    <tr>\n      <th>67</th>\n      <td>67</td>\n      <td>53</td>\n      <td>Private</td>\n      <td>HS-grad</td>\n      <td>Married-civ-spouse</td>\n      <td>Adm-clerical</td>\n      <td>Wife</td>\n      <td>White</td>\n      <td>Female</td>\n      <td>40</td>\n      <td>United-States</td>\n      <td>&gt;50K</td>\n      <td>225</td>\n    </tr>\n    <tr>\n      <th>68</th>\n      <td>68</td>\n      <td>49</td>\n      <td>Self-emp-inc</td>\n      <td>Some-college</td>\n      <td>Married-civ-spouse</td>\n      <td>Exec-managerial</td>\n      <td>Husband</td>\n      <td>White</td>\n      <td>Male</td>\n      <td>50</td>\n      <td>United-States</td>\n      <td>&gt;50K</td>\n      <td>194</td>\n    </tr>\n    <tr>\n      <th>...</th>\n      <td>...</td>\n      <td>...</td>\n      <td>...</td>\n      <td>...</td>\n      <td>...</td>\n      <td>...</td>\n      <td>...</td>\n      <td>...</td>\n      <td>...</td>\n      <td>...</td>\n      <td>...</td>\n      <td>...</td>\n      <td>...</td>\n    </tr>\n    <tr>\n      <th>32462</th>\n      <td>32462</td>\n      <td>48</td>\n      <td>Self-emp-inc</td>\n      <td>HS-grad</td>\n      <td>Married-civ-spouse</td>\n      <td>Craft-repair</td>\n      <td>Husband</td>\n      <td>White</td>\n      <td>Male</td>\n      <td>50</td>\n      <td>United-States</td>\n      <td>&gt;50K</td>\n      <td>343</td>\n    </tr>\n    <tr>\n      <th>32518</th>\n      <td>32518</td>\n      <td>57</td>\n      <td>Local-gov</td>\n      <td>HS-grad</td>\n      <td>Married-civ-spouse</td>\n      <td>Craft-repair</td>\n      <td>Husband</td>\n      <td>White</td>\n      <td>Male</td>\n      <td>40</td>\n      <td>United-States</td>\n      <td>&gt;50K</td>\n      <td>116</td>\n    </tr>\n    <tr>\n      <th>32519</th>\n      <td>32519</td>\n      <td>46</td>\n      <td>Private</td>\n      <td>Some-college</td>\n      <td>Married-civ-spouse</td>\n      <td>Exec-managerial</td>\n      <td>Husband</td>\n      <td>White</td>\n      <td>Male</td>\n      <td>48</td>\n      <td>United-States</td>\n      <td>&gt;50K</td>\n      <td>239</td>\n    </tr>\n    <tr>\n      <th>32557</th>\n      <td>32557</td>\n      <td>40</td>\n      <td>Private</td>\n      <td>HS-grad</td>\n      <td>Married-civ-spouse</td>\n      <td>Machine-op-inspct</td>\n      <td>Husband</td>\n      <td>White</td>\n      <td>Male</td>\n      <td>40</td>\n      <td>United-States</td>\n      <td>&gt;50K</td>\n      <td>173</td>\n    </tr>\n    <tr>\n      <th>32560</th>\n      <td>32560</td>\n      <td>52</td>\n      <td>Self-emp-inc</td>\n      <td>HS-grad</td>\n      <td>Married-civ-spouse</td>\n      <td>Exec-managerial</td>\n      <td>Wife</td>\n      <td>White</td>\n      <td>Female</td>\n      <td>40</td>\n      <td>United-States</td>\n      <td>&gt;50K</td>\n      <td>243</td>\n    </tr>\n  </tbody>\n</table>\n<p>3178 rows × 13 columns</p>\n</div>"
     },
     "execution_count": 296,
     "metadata": {},
     "output_type": "execute_result"
    }
   ],
   "source": [
    "all_adult[~(all_adult.education.str.match(\"Bachelors|Prof-school|Assoc-acdm|Assoc-voc|Masters|Doctorate\")) & (all_adult[\"salary\"] == \">50K\")]"
   ],
   "metadata": {
    "collapsed": false,
    "pycharm": {
     "name": "#%%\n"
    }
   }
  },
  {
   "cell_type": "markdown",
   "source": [
    "# Task 6\n",
    "Get the statistics of age for each type of education. Use `groupby` and `describe` for this."
   ],
   "metadata": {
    "collapsed": false,
    "pycharm": {
     "name": "#%% md\n"
    }
   }
  },
  {
   "cell_type": "code",
   "execution_count": 305,
   "outputs": [
    {
     "data": {
      "text/plain": "                 Unnamed: 0                                                \\\n                      count          mean           std     min       25%   \nage education                                                               \n17  10th              106.0  17480.990566   8637.003666   609.0  11099.25   \n    11th              154.0  16706.259740   9615.122123   209.0   8638.00   \n    12th               32.0  16342.718750   9087.301307   676.0   9914.25   \n    5th-6th             1.0    335.000000           NaN   335.0    335.00   \n    7th-8th             3.0  18738.333333   9463.059988  9971.0  13722.50   \n...                     ...           ...           ...     ...       ...   \n90  Bachelors           7.0  12237.285714   7118.816562  1935.0   7602.50   \n    HS-grad            11.0  17518.363636  11082.227540   222.0  11028.50   \n    Masters             4.0  12554.500000   8306.948477  5370.0   5397.00   \n    Prof-school         1.0   8806.000000           NaN  8806.0   8806.00   \n    Some-college        5.0   7944.000000   7027.123700  2303.0   2891.00   \n\n                                             hours-per-week             ...  \\\n                      50%       75%      max          count       mean  ...   \nage education                                                           ...   \n17  10th          18608.0  24613.25  32447.0          106.0  19.896226  ...   \n    11th          16841.5  25127.50  32282.0          154.0  19.448052  ...   \n    12th          16479.5  24077.50  31864.0           32.0  18.500000  ...   \n    5th-6th         335.0    335.00    335.0            1.0  48.000000  ...   \n    7th-8th       17474.0  23122.00  28770.0            3.0  31.000000  ...   \n...                   ...       ...      ...            ...        ...  ...   \n90  Bachelors     11996.0  17152.50  22220.0            7.0  36.428571  ...   \n    HS-grad       18725.0  26253.00  32277.0           11.0  40.000000  ...   \n    Masters       12119.0  19276.50  20610.0            4.0  47.500000  ...   \n    Prof-school    8806.0   8806.00   8806.0            1.0  72.000000  ...   \n    Some-college   5104.0  10210.00  19212.0            5.0  37.400000  ...   \n\n                             salary K$                                         \\\n                   75%   max     count        mean         std    min     25%   \nage education                                                                   \n17  10th          25.0  40.0     106.0   31.349057    9.442601   15.0   24.00   \n    11th          21.5  45.0     154.0   32.655844    9.578967   15.0   25.00   \n    12th          20.0  40.0      32.0   32.500000    9.425429   17.0   25.00   \n    5th-6th       48.0  48.0       1.0   47.000000         NaN   47.0   47.00   \n    7th-8th       42.5  45.0       3.0   35.000000   14.798649   18.0   30.00   \n...                ...   ...       ...         ...         ...    ...     ...   \n90  Bachelors     47.5  55.0       7.0  107.714286  132.360259   20.0   25.00   \n    HS-grad       40.0  99.0      11.0   40.545455   31.094577   17.0   23.00   \n    Masters       52.5  60.0       4.0  201.250000  131.154807   44.0  121.25   \n    Prof-school   72.0  72.0       1.0  141.000000         NaN  141.0  141.00   \n    Some-college  40.0  40.0       5.0   24.400000    9.889388   17.0   17.00   \n\n                                        \n                    50%     75%    max  \nage education                           \n17  10th           31.0   38.75   49.0  \n    11th           31.0   40.00   49.0  \n    12th           31.5   41.00   49.0  \n    5th-6th        47.0   47.00   47.0  \n    7th-8th        42.0   43.50   45.0  \n...                 ...     ...    ...  \n90  Bachelors      40.0  168.00  308.0  \n    HS-grad        37.0   42.00  129.0  \n    Masters       213.0  293.00  335.0  \n    Prof-school   141.0  141.00  141.0  \n    Some-college   22.0   25.00   41.0  \n\n[930 rows x 24 columns]",
      "text/html": "<div>\n<style scoped>\n    .dataframe tbody tr th:only-of-type {\n        vertical-align: middle;\n    }\n\n    .dataframe tbody tr th {\n        vertical-align: top;\n    }\n\n    .dataframe thead tr th {\n        text-align: left;\n    }\n\n    .dataframe thead tr:last-of-type th {\n        text-align: right;\n    }\n</style>\n<table border=\"1\" class=\"dataframe\">\n  <thead>\n    <tr>\n      <th></th>\n      <th></th>\n      <th colspan=\"8\" halign=\"left\">Unnamed: 0</th>\n      <th colspan=\"5\" halign=\"left\">hours-per-week</th>\n      <th colspan=\"8\" halign=\"left\">salary K$</th>\n    </tr>\n    <tr>\n      <th></th>\n      <th></th>\n      <th>count</th>\n      <th>mean</th>\n      <th>std</th>\n      <th>min</th>\n      <th>25%</th>\n      <th>50%</th>\n      <th>75%</th>\n      <th>max</th>\n      <th>count</th>\n      <th>mean</th>\n      <th>...</th>\n      <th>75%</th>\n      <th>max</th>\n      <th>count</th>\n      <th>mean</th>\n      <th>std</th>\n      <th>min</th>\n      <th>25%</th>\n      <th>50%</th>\n      <th>75%</th>\n      <th>max</th>\n    </tr>\n    <tr>\n      <th>age</th>\n      <th>education</th>\n      <th></th>\n      <th></th>\n      <th></th>\n      <th></th>\n      <th></th>\n      <th></th>\n      <th></th>\n      <th></th>\n      <th></th>\n      <th></th>\n      <th></th>\n      <th></th>\n      <th></th>\n      <th></th>\n      <th></th>\n      <th></th>\n      <th></th>\n      <th></th>\n      <th></th>\n      <th></th>\n      <th></th>\n    </tr>\n  </thead>\n  <tbody>\n    <tr>\n      <th rowspan=\"5\" valign=\"top\">17</th>\n      <th>10th</th>\n      <td>106.0</td>\n      <td>17480.990566</td>\n      <td>8637.003666</td>\n      <td>609.0</td>\n      <td>11099.25</td>\n      <td>18608.0</td>\n      <td>24613.25</td>\n      <td>32447.0</td>\n      <td>106.0</td>\n      <td>19.896226</td>\n      <td>...</td>\n      <td>25.0</td>\n      <td>40.0</td>\n      <td>106.0</td>\n      <td>31.349057</td>\n      <td>9.442601</td>\n      <td>15.0</td>\n      <td>24.00</td>\n      <td>31.0</td>\n      <td>38.75</td>\n      <td>49.0</td>\n    </tr>\n    <tr>\n      <th>11th</th>\n      <td>154.0</td>\n      <td>16706.259740</td>\n      <td>9615.122123</td>\n      <td>209.0</td>\n      <td>8638.00</td>\n      <td>16841.5</td>\n      <td>25127.50</td>\n      <td>32282.0</td>\n      <td>154.0</td>\n      <td>19.448052</td>\n      <td>...</td>\n      <td>21.5</td>\n      <td>45.0</td>\n      <td>154.0</td>\n      <td>32.655844</td>\n      <td>9.578967</td>\n      <td>15.0</td>\n      <td>25.00</td>\n      <td>31.0</td>\n      <td>40.00</td>\n      <td>49.0</td>\n    </tr>\n    <tr>\n      <th>12th</th>\n      <td>32.0</td>\n      <td>16342.718750</td>\n      <td>9087.301307</td>\n      <td>676.0</td>\n      <td>9914.25</td>\n      <td>16479.5</td>\n      <td>24077.50</td>\n      <td>31864.0</td>\n      <td>32.0</td>\n      <td>18.500000</td>\n      <td>...</td>\n      <td>20.0</td>\n      <td>40.0</td>\n      <td>32.0</td>\n      <td>32.500000</td>\n      <td>9.425429</td>\n      <td>17.0</td>\n      <td>25.00</td>\n      <td>31.5</td>\n      <td>41.00</td>\n      <td>49.0</td>\n    </tr>\n    <tr>\n      <th>5th-6th</th>\n      <td>1.0</td>\n      <td>335.000000</td>\n      <td>NaN</td>\n      <td>335.0</td>\n      <td>335.00</td>\n      <td>335.0</td>\n      <td>335.00</td>\n      <td>335.0</td>\n      <td>1.0</td>\n      <td>48.000000</td>\n      <td>...</td>\n      <td>48.0</td>\n      <td>48.0</td>\n      <td>1.0</td>\n      <td>47.000000</td>\n      <td>NaN</td>\n      <td>47.0</td>\n      <td>47.00</td>\n      <td>47.0</td>\n      <td>47.00</td>\n      <td>47.0</td>\n    </tr>\n    <tr>\n      <th>7th-8th</th>\n      <td>3.0</td>\n      <td>18738.333333</td>\n      <td>9463.059988</td>\n      <td>9971.0</td>\n      <td>13722.50</td>\n      <td>17474.0</td>\n      <td>23122.00</td>\n      <td>28770.0</td>\n      <td>3.0</td>\n      <td>31.000000</td>\n      <td>...</td>\n      <td>42.5</td>\n      <td>45.0</td>\n      <td>3.0</td>\n      <td>35.000000</td>\n      <td>14.798649</td>\n      <td>18.0</td>\n      <td>30.00</td>\n      <td>42.0</td>\n      <td>43.50</td>\n      <td>45.0</td>\n    </tr>\n    <tr>\n      <th>...</th>\n      <th>...</th>\n      <td>...</td>\n      <td>...</td>\n      <td>...</td>\n      <td>...</td>\n      <td>...</td>\n      <td>...</td>\n      <td>...</td>\n      <td>...</td>\n      <td>...</td>\n      <td>...</td>\n      <td>...</td>\n      <td>...</td>\n      <td>...</td>\n      <td>...</td>\n      <td>...</td>\n      <td>...</td>\n      <td>...</td>\n      <td>...</td>\n      <td>...</td>\n      <td>...</td>\n      <td>...</td>\n    </tr>\n    <tr>\n      <th rowspan=\"5\" valign=\"top\">90</th>\n      <th>Bachelors</th>\n      <td>7.0</td>\n      <td>12237.285714</td>\n      <td>7118.816562</td>\n      <td>1935.0</td>\n      <td>7602.50</td>\n      <td>11996.0</td>\n      <td>17152.50</td>\n      <td>22220.0</td>\n      <td>7.0</td>\n      <td>36.428571</td>\n      <td>...</td>\n      <td>47.5</td>\n      <td>55.0</td>\n      <td>7.0</td>\n      <td>107.714286</td>\n      <td>132.360259</td>\n      <td>20.0</td>\n      <td>25.00</td>\n      <td>40.0</td>\n      <td>168.00</td>\n      <td>308.0</td>\n    </tr>\n    <tr>\n      <th>HS-grad</th>\n      <td>11.0</td>\n      <td>17518.363636</td>\n      <td>11082.227540</td>\n      <td>222.0</td>\n      <td>11028.50</td>\n      <td>18725.0</td>\n      <td>26253.00</td>\n      <td>32277.0</td>\n      <td>11.0</td>\n      <td>40.000000</td>\n      <td>...</td>\n      <td>40.0</td>\n      <td>99.0</td>\n      <td>11.0</td>\n      <td>40.545455</td>\n      <td>31.094577</td>\n      <td>17.0</td>\n      <td>23.00</td>\n      <td>37.0</td>\n      <td>42.00</td>\n      <td>129.0</td>\n    </tr>\n    <tr>\n      <th>Masters</th>\n      <td>4.0</td>\n      <td>12554.500000</td>\n      <td>8306.948477</td>\n      <td>5370.0</td>\n      <td>5397.00</td>\n      <td>12119.0</td>\n      <td>19276.50</td>\n      <td>20610.0</td>\n      <td>4.0</td>\n      <td>47.500000</td>\n      <td>...</td>\n      <td>52.5</td>\n      <td>60.0</td>\n      <td>4.0</td>\n      <td>201.250000</td>\n      <td>131.154807</td>\n      <td>44.0</td>\n      <td>121.25</td>\n      <td>213.0</td>\n      <td>293.00</td>\n      <td>335.0</td>\n    </tr>\n    <tr>\n      <th>Prof-school</th>\n      <td>1.0</td>\n      <td>8806.000000</td>\n      <td>NaN</td>\n      <td>8806.0</td>\n      <td>8806.00</td>\n      <td>8806.0</td>\n      <td>8806.00</td>\n      <td>8806.0</td>\n      <td>1.0</td>\n      <td>72.000000</td>\n      <td>...</td>\n      <td>72.0</td>\n      <td>72.0</td>\n      <td>1.0</td>\n      <td>141.000000</td>\n      <td>NaN</td>\n      <td>141.0</td>\n      <td>141.00</td>\n      <td>141.0</td>\n      <td>141.00</td>\n      <td>141.0</td>\n    </tr>\n    <tr>\n      <th>Some-college</th>\n      <td>5.0</td>\n      <td>7944.000000</td>\n      <td>7027.123700</td>\n      <td>2303.0</td>\n      <td>2891.00</td>\n      <td>5104.0</td>\n      <td>10210.00</td>\n      <td>19212.0</td>\n      <td>5.0</td>\n      <td>37.400000</td>\n      <td>...</td>\n      <td>40.0</td>\n      <td>40.0</td>\n      <td>5.0</td>\n      <td>24.400000</td>\n      <td>9.889388</td>\n      <td>17.0</td>\n      <td>17.00</td>\n      <td>22.0</td>\n      <td>25.00</td>\n      <td>41.0</td>\n    </tr>\n  </tbody>\n</table>\n<p>930 rows × 24 columns</p>\n</div>"
     },
     "execution_count": 305,
     "metadata": {},
     "output_type": "execute_result"
    }
   ],
   "source": [
    "all_adult.groupby([\"age\", \"education\"]).describe()"
   ],
   "metadata": {
    "collapsed": false,
    "pycharm": {
     "name": "#%%\n"
    }
   }
  },
  {
   "cell_type": "markdown",
   "source": [
    "# Task 7\n",
    "Compare the married and non-married men salaries. Who earns more? (>50K or <=50K)\n",
    "Married men are those, whom `marital-status` starts with \"Married\". Others are not."
   ],
   "metadata": {
    "collapsed": false,
    "pycharm": {
     "name": "#%% md\n"
    }
   }
  },
  {
   "cell_type": "code",
   "execution_count": 347,
   "outputs": [
    {
     "data": {
      "text/plain": "       Unnamed: 0                                                              \\\n            count          mean          std  min      25%      50%       75%   \nsalary                                                                          \n<=50K      8016.0  16287.127745  9383.003601  1.0  8145.00  16190.5  24448.00   \n>50K       6440.0  16368.996273  9457.948308  7.0  8192.25  16472.0  24513.75   \n\n                    age             ... hours-per-week       salary K$  \\\n            max   count       mean  ...            75%   max     count   \nsalary                              ...                                  \n<=50K   32556.0  8016.0  41.536302  ...           45.0  99.0    8016.0   \n>50K    32560.0  6440.0  44.125000  ...           50.0  99.0    6440.0   \n\n                                                                 \n              mean        std   min    25%    50%    75%    max  \nsalary                                                           \n<=50K    31.991392  10.088606  15.0   23.0   32.0   41.0   49.0  \n>50K    201.157609  87.191477  51.0  124.0  202.0  277.0  349.0  \n\n[2 rows x 32 columns]",
      "text/html": "<div>\n<style scoped>\n    .dataframe tbody tr th:only-of-type {\n        vertical-align: middle;\n    }\n\n    .dataframe tbody tr th {\n        vertical-align: top;\n    }\n\n    .dataframe thead tr th {\n        text-align: left;\n    }\n\n    .dataframe thead tr:last-of-type th {\n        text-align: right;\n    }\n</style>\n<table border=\"1\" class=\"dataframe\">\n  <thead>\n    <tr>\n      <th></th>\n      <th colspan=\"8\" halign=\"left\">Unnamed: 0</th>\n      <th colspan=\"2\" halign=\"left\">age</th>\n      <th>...</th>\n      <th colspan=\"2\" halign=\"left\">hours-per-week</th>\n      <th colspan=\"8\" halign=\"left\">salary K$</th>\n    </tr>\n    <tr>\n      <th></th>\n      <th>count</th>\n      <th>mean</th>\n      <th>std</th>\n      <th>min</th>\n      <th>25%</th>\n      <th>50%</th>\n      <th>75%</th>\n      <th>max</th>\n      <th>count</th>\n      <th>mean</th>\n      <th>...</th>\n      <th>75%</th>\n      <th>max</th>\n      <th>count</th>\n      <th>mean</th>\n      <th>std</th>\n      <th>min</th>\n      <th>25%</th>\n      <th>50%</th>\n      <th>75%</th>\n      <th>max</th>\n    </tr>\n    <tr>\n      <th>salary</th>\n      <th></th>\n      <th></th>\n      <th></th>\n      <th></th>\n      <th></th>\n      <th></th>\n      <th></th>\n      <th></th>\n      <th></th>\n      <th></th>\n      <th></th>\n      <th></th>\n      <th></th>\n      <th></th>\n      <th></th>\n      <th></th>\n      <th></th>\n      <th></th>\n      <th></th>\n      <th></th>\n      <th></th>\n    </tr>\n  </thead>\n  <tbody>\n    <tr>\n      <th>&lt;=50K</th>\n      <td>8016.0</td>\n      <td>16287.127745</td>\n      <td>9383.003601</td>\n      <td>1.0</td>\n      <td>8145.00</td>\n      <td>16190.5</td>\n      <td>24448.00</td>\n      <td>32556.0</td>\n      <td>8016.0</td>\n      <td>41.536302</td>\n      <td>...</td>\n      <td>45.0</td>\n      <td>99.0</td>\n      <td>8016.0</td>\n      <td>31.991392</td>\n      <td>10.088606</td>\n      <td>15.0</td>\n      <td>23.0</td>\n      <td>32.0</td>\n      <td>41.0</td>\n      <td>49.0</td>\n    </tr>\n    <tr>\n      <th>&gt;50K</th>\n      <td>6440.0</td>\n      <td>16368.996273</td>\n      <td>9457.948308</td>\n      <td>7.0</td>\n      <td>8192.25</td>\n      <td>16472.0</td>\n      <td>24513.75</td>\n      <td>32560.0</td>\n      <td>6440.0</td>\n      <td>44.125000</td>\n      <td>...</td>\n      <td>50.0</td>\n      <td>99.0</td>\n      <td>6440.0</td>\n      <td>201.157609</td>\n      <td>87.191477</td>\n      <td>51.0</td>\n      <td>124.0</td>\n      <td>202.0</td>\n      <td>277.0</td>\n      <td>349.0</td>\n    </tr>\n  </tbody>\n</table>\n<p>2 rows × 32 columns</p>\n</div>"
     },
     "execution_count": 347,
     "metadata": {},
     "output_type": "execute_result"
    }
   ],
   "source": [
    "sort_married = all_adult[(all_adult[\"marital-status\"].str.startswith(\"Married\")) & (all_adult.salary.str.match(\">50K|<=50K\"))]\n",
    "sort_married.groupby(sort_married.salary).describe()"
   ],
   "metadata": {
    "collapsed": false,
    "pycharm": {
     "name": "#%%\n"
    }
   }
  },
  {
   "cell_type": "markdown",
   "source": [
    "# Task 8\n",
    "Get the max hours per week some person works. How many people works the same amount of hours per week?"
   ],
   "metadata": {
    "collapsed": false,
    "pycharm": {
     "name": "#%% md\n"
    }
   }
  },
  {
   "cell_type": "code",
   "execution_count": 492,
   "outputs": [
    {
     "data": {
      "text/plain": "                  Unnamed: 0  age     education marital-status  \\\nworkclass                                                        \nFederal-gov            32515   90  Some-college        Widowed   \nLocal-gov              32545   90  Some-college        Widowed   \nPrivate                32559   90  Some-college        Widowed   \nSelf-emp-inc           32560   84  Some-college        Widowed   \nSelf-emp-not-inc       32550   90  Some-college        Widowed   \nState-gov              32549   81  Some-college        Widowed   \nWithout-pay            32262   72  Some-college        Widowed   \n\n                        occupation relationship   race   sex  hours-per-week  \\\nworkclass                                                                      \nFederal-gov       Transport-moving         Wife  White  Male              99   \nLocal-gov         Transport-moving         Wife  White  Male              99   \nPrivate           Transport-moving         Wife  White  Male              99   \nSelf-emp-inc      Transport-moving         Wife  White  Male              99   \nSelf-emp-not-inc  Transport-moving         Wife  White  Male              99   \nState-gov         Transport-moving         Wife  White  Male              99   \nWithout-pay       Transport-moving         Wife  White  Male              65   \n\n                 native-country salary  salary K$  \nworkclass                                          \nFederal-gov             Vietnam   >50K        348  \nLocal-gov            Yugoslavia   >50K        349  \nPrivate              Yugoslavia   >50K        349  \nSelf-emp-inc         Yugoslavia   >50K        349  \nSelf-emp-not-inc     Yugoslavia   >50K        349  \nState-gov               Vietnam   >50K        349  \nWithout-pay       United-States  <=50K         49  ",
      "text/html": "<div>\n<style scoped>\n    .dataframe tbody tr th:only-of-type {\n        vertical-align: middle;\n    }\n\n    .dataframe tbody tr th {\n        vertical-align: top;\n    }\n\n    .dataframe thead th {\n        text-align: right;\n    }\n</style>\n<table border=\"1\" class=\"dataframe\">\n  <thead>\n    <tr style=\"text-align: right;\">\n      <th></th>\n      <th>Unnamed: 0</th>\n      <th>age</th>\n      <th>education</th>\n      <th>marital-status</th>\n      <th>occupation</th>\n      <th>relationship</th>\n      <th>race</th>\n      <th>sex</th>\n      <th>hours-per-week</th>\n      <th>native-country</th>\n      <th>salary</th>\n      <th>salary K$</th>\n    </tr>\n    <tr>\n      <th>workclass</th>\n      <th></th>\n      <th></th>\n      <th></th>\n      <th></th>\n      <th></th>\n      <th></th>\n      <th></th>\n      <th></th>\n      <th></th>\n      <th></th>\n      <th></th>\n      <th></th>\n    </tr>\n  </thead>\n  <tbody>\n    <tr>\n      <th>Federal-gov</th>\n      <td>32515</td>\n      <td>90</td>\n      <td>Some-college</td>\n      <td>Widowed</td>\n      <td>Transport-moving</td>\n      <td>Wife</td>\n      <td>White</td>\n      <td>Male</td>\n      <td>99</td>\n      <td>Vietnam</td>\n      <td>&gt;50K</td>\n      <td>348</td>\n    </tr>\n    <tr>\n      <th>Local-gov</th>\n      <td>32545</td>\n      <td>90</td>\n      <td>Some-college</td>\n      <td>Widowed</td>\n      <td>Transport-moving</td>\n      <td>Wife</td>\n      <td>White</td>\n      <td>Male</td>\n      <td>99</td>\n      <td>Yugoslavia</td>\n      <td>&gt;50K</td>\n      <td>349</td>\n    </tr>\n    <tr>\n      <th>Private</th>\n      <td>32559</td>\n      <td>90</td>\n      <td>Some-college</td>\n      <td>Widowed</td>\n      <td>Transport-moving</td>\n      <td>Wife</td>\n      <td>White</td>\n      <td>Male</td>\n      <td>99</td>\n      <td>Yugoslavia</td>\n      <td>&gt;50K</td>\n      <td>349</td>\n    </tr>\n    <tr>\n      <th>Self-emp-inc</th>\n      <td>32560</td>\n      <td>84</td>\n      <td>Some-college</td>\n      <td>Widowed</td>\n      <td>Transport-moving</td>\n      <td>Wife</td>\n      <td>White</td>\n      <td>Male</td>\n      <td>99</td>\n      <td>Yugoslavia</td>\n      <td>&gt;50K</td>\n      <td>349</td>\n    </tr>\n    <tr>\n      <th>Self-emp-not-inc</th>\n      <td>32550</td>\n      <td>90</td>\n      <td>Some-college</td>\n      <td>Widowed</td>\n      <td>Transport-moving</td>\n      <td>Wife</td>\n      <td>White</td>\n      <td>Male</td>\n      <td>99</td>\n      <td>Yugoslavia</td>\n      <td>&gt;50K</td>\n      <td>349</td>\n    </tr>\n    <tr>\n      <th>State-gov</th>\n      <td>32549</td>\n      <td>81</td>\n      <td>Some-college</td>\n      <td>Widowed</td>\n      <td>Transport-moving</td>\n      <td>Wife</td>\n      <td>White</td>\n      <td>Male</td>\n      <td>99</td>\n      <td>Vietnam</td>\n      <td>&gt;50K</td>\n      <td>349</td>\n    </tr>\n    <tr>\n      <th>Without-pay</th>\n      <td>32262</td>\n      <td>72</td>\n      <td>Some-college</td>\n      <td>Widowed</td>\n      <td>Transport-moving</td>\n      <td>Wife</td>\n      <td>White</td>\n      <td>Male</td>\n      <td>65</td>\n      <td>United-States</td>\n      <td>&lt;=50K</td>\n      <td>49</td>\n    </tr>\n  </tbody>\n</table>\n</div>"
     },
     "execution_count": 492,
     "metadata": {},
     "output_type": "execute_result"
    }
   ],
   "source": [
    "all_adult.groupby(all_adult.workclass).max()"
   ],
   "metadata": {
    "collapsed": false,
    "pycharm": {
     "name": "#%%\n"
    }
   }
  },
  {
   "cell_type": "markdown",
   "source": [
    "# Task 9\n",
    "Analyze the correlation between data in dataset. Understand connected fields in it and print highlight thier connection."
   ],
   "metadata": {
    "collapsed": false,
    "pycharm": {
     "name": "#%% md\n"
    }
   }
  },
  {
   "cell_type": "code",
   "execution_count": 493,
   "outputs": [
    {
     "name": "stderr",
     "output_type": "stream",
     "text": [
      "C:\\Users\\Igor\\AppData\\Local\\Temp\\ipykernel_8872\\2381140224.py:1: FutureWarning: The default value of numeric_only in DataFrame.corr is deprecated. In a future version, it will default to False. Select only valid columns or specify the value of numeric_only to silence this warning.\n",
      "  all_adult.corr()\n"
     ]
    },
    {
     "data": {
      "text/plain": "                Unnamed: 0       age  hours-per-week  salary K$\nUnnamed: 0        1.000000 -0.001126       -0.001890   0.000129\nage              -0.001126  1.000000        0.101599   0.208203\nhours-per-week   -0.001890  0.101599        1.000000   0.196378\nsalary K$         0.000129  0.208203        0.196378   1.000000",
      "text/html": "<div>\n<style scoped>\n    .dataframe tbody tr th:only-of-type {\n        vertical-align: middle;\n    }\n\n    .dataframe tbody tr th {\n        vertical-align: top;\n    }\n\n    .dataframe thead th {\n        text-align: right;\n    }\n</style>\n<table border=\"1\" class=\"dataframe\">\n  <thead>\n    <tr style=\"text-align: right;\">\n      <th></th>\n      <th>Unnamed: 0</th>\n      <th>age</th>\n      <th>hours-per-week</th>\n      <th>salary K$</th>\n    </tr>\n  </thead>\n  <tbody>\n    <tr>\n      <th>Unnamed: 0</th>\n      <td>1.000000</td>\n      <td>-0.001126</td>\n      <td>-0.001890</td>\n      <td>0.000129</td>\n    </tr>\n    <tr>\n      <th>age</th>\n      <td>-0.001126</td>\n      <td>1.000000</td>\n      <td>0.101599</td>\n      <td>0.208203</td>\n    </tr>\n    <tr>\n      <th>hours-per-week</th>\n      <td>-0.001890</td>\n      <td>0.101599</td>\n      <td>1.000000</td>\n      <td>0.196378</td>\n    </tr>\n    <tr>\n      <th>salary K$</th>\n      <td>0.000129</td>\n      <td>0.208203</td>\n      <td>0.196378</td>\n      <td>1.000000</td>\n    </tr>\n  </tbody>\n</table>\n</div>"
     },
     "execution_count": 493,
     "metadata": {},
     "output_type": "execute_result"
    }
   ],
   "source": [
    "all_adult.corr()"
   ],
   "metadata": {
    "collapsed": false,
    "pycharm": {
     "name": "#%%\n"
    }
   }
  }
 ],
 "metadata": {
  "kernelspec": {
   "display_name": "Python 3",
   "language": "python",
   "name": "python3"
  },
  "language_info": {
   "codemirror_mode": {
    "name": "ipython",
    "version": 2
   },
   "file_extension": ".py",
   "mimetype": "text/x-python",
   "name": "python",
   "nbconvert_exporter": "python",
   "pygments_lexer": "ipython2",
   "version": "2.7.6"
  }
 },
 "nbformat": 4,
 "nbformat_minor": 0
}